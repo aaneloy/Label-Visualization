{
 "cells": [
  {
   "cell_type": "code",
   "execution_count": 3,
   "id": "72f1f17b",
   "metadata": {
    "pycharm": {
     "is_executing": true,
     "name": "#%%\n"
    }
   },
   "outputs": [],
   "source": [
    "import pandas as pd\n",
    "import numpy as np\n",
    "import math"
   ]
  },
  {
   "cell_type": "code",
   "execution_count": 4,
   "id": "bd42003b",
   "metadata": {
    "pycharm": {
     "name": "#%%\n"
    }
   },
   "outputs": [
    {
     "name": "stdout",
     "output_type": "stream",
     "text": [
      "2.9.1\n"
     ]
    }
   ],
   "source": [
    "import tensorflow as tf\n",
    "print(tf.__version__)\n",
    "\n",
    "from tensorflow import keras\n",
    "import tensorflow_datasets as tfds"
   ]
  },
  {
   "cell_type": "code",
   "execution_count": 5,
   "id": "b91c8a9a",
   "metadata": {
    "pycharm": {
     "name": "#%%\n"
    }
   },
   "outputs": [
    {
     "data": {
      "text/plain": [
       "True"
      ]
     },
     "execution_count": 5,
     "metadata": {},
     "output_type": "execute_result"
    }
   ],
   "source": [
    "tf.test.is_built_with_cuda()"
   ]
  },
  {
   "cell_type": "code",
   "execution_count": 6,
   "id": "93de84a3",
   "metadata": {
    "pycharm": {
     "name": "#%%\n"
    }
   },
   "outputs": [
    {
     "name": "stdout",
     "output_type": "stream",
     "text": [
      "EMNIST Dataset Shape:\n",
      "X_train: (697932, 28, 28, 1)\n",
      "Y_train: (697932,)\n",
      "X_test:  (116323, 28, 28, 1)\n",
      "Y_test:  (116323,)\n"
     ]
    }
   ],
   "source": [
    "(X_train, Y_train), (X_test, Y_test) = tfds.as_numpy(tfds.load('emnist', split = ['train', 'test'], \n",
    "                                                               batch_size=-1, as_supervised=True))\n",
    "\n",
    "print('EMNIST Dataset Shape:')\n",
    "print('X_train: ' + str(X_train.shape))\n",
    "print('Y_train: ' + str(Y_train.shape))\n",
    "print('X_test:  '  + str(X_test.shape))\n",
    "print('Y_test:  '  + str(Y_test.shape))"
   ]
  },
  {
   "cell_type": "code",
   "execution_count": 8,
   "id": "60513dd4",
   "metadata": {
    "pycharm": {
     "name": "#%%\n"
    }
   },
   "outputs": [
    {
     "data": {
      "image/png": "[encoded data removed]",
      "text/plain": [
       "<Figure size 432x288 with 1 Axes>"
      ]
     },
     "metadata": {
      "needs_background": "light"
     },
     "output_type": "display_data"
    }
   ],
   "source": [
    "import matplotlib.pyplot as plt\n",
    "%matplotlib inline\n",
    "\n",
    "# pick a sample to plot\n",
    "sample = 3\n",
    "image = X_train[sample]\n",
    "image = image.transpose().reshape(28,28)\n",
    "\n",
    "# plot the sample\n",
    "fig = plt.figure\n",
    "plt.imshow(image, cmap='gray')\n",
    "plt.show()"
   ]
  },
  {
   "cell_type": "code",
   "execution_count": 9,
   "id": "dbe4f009",
   "metadata": {
    "pycharm": {
     "name": "#%%\n"
    }
   },
   "outputs": [
    {
     "name": "stdout",
     "output_type": "stream",
     "text": [
      "Total number of classes :  62\n",
      "Unique labels :  [ 0  1  2  3  4  5  6  7  8  9 10 11 12 13 14 15 16 17 18 19 20 21 22 23\n",
      " 24 25 26 27 28 29 30 31 32 33 34 35 36 37 38 39 40 41 42 43 44 45 46 47\n",
      " 48 49 50 51 52 53 54 55 56 57 58 59 60 61]\n"
     ]
    }
   ],
   "source": [
    "# find the unique labels (as numbers in this case)\n",
    "labels_unique = np.unique(Y_train)\n",
    "\n",
    "# find the total number of unique classes\n",
    "num_classes = len(labels_unique)\n",
    "\n",
    "print('Total number of classes : ', num_classes)\n",
    "print('Unique labels : ', labels_unique)"
   ]
  },
  {
   "cell_type": "code",
   "execution_count": null,
   "outputs": [],
   "source": [
    "# specify the number of rows and columns you want to see\n",
    "num_row = 3\n",
    "num_col = 5\n",
    "\n",
    "# get a segment of the dataset\n",
    "num = num_row*num_col\n",
    "images = X_train[:num]\n",
    "image = image.transpose().reshape(28,28)\n",
    "labels = Y_train[:num]\n",
    "\n",
    "# plot images\n",
    "fig, axes = plt.subplots(num_row, num_col, figsize=(1.5*num_col,2*num_row))\n",
    "for i in range(num_row*num_col):\n",
    "    ax = axes[i//num_col, i%num_col]\n",
    "    ax.imshow(images[i], cmap='gray')\n",
    "    ax.set_title('Label: {}'.format(labels[i]))\n",
    "plt.tight_layout()\n",
    "plt.show()\n",
    "\n",
    "plt.savefig('EMNIST.png', dpi=600, bbox_inches='tight')"
   ],
   "metadata": {
    "collapsed": false,
    "pycharm": {
     "name": "#%%\n"
    }
   }
  },
  {
   "cell_type": "code",
   "execution_count": null,
   "outputs": [],
   "source": [
    "class_names = {i:cn for i, cn in enumerate(['0', '1', '2', '3', '4', '5', '6', '7', '8', '9', 'A', 'B', \n",
    "                                            'C', 'D', 'E', 'F', 'G', 'H', 'I', 'J', 'K', 'L', 'M', 'N', \n",
    "                                            'O', 'P', 'Q', 'R', 'S', 'T', 'U', 'V', 'W', 'X', 'Y', 'Z', \n",
    "                                            'a', 'b', 'c', 'd', 'e', 'f', 'g', 'h', 'i', 'j', 'k', 'l', \n",
    "                                            'm', 'n', 'o', 'p', 'q', 'r', 's', 't', 'u', 'v', 'w', 'x', \n",
    "                                            'y', 'z']) }\n",
    "    \n",
    "\n",
    "def plot(images, labels, predictions=None):\n",
    "    # create a grid with 5 columns\n",
    "    n_cols = min(5, len(images))\n",
    "    n_rows = math.ceil(len(images) / n_cols)\n",
    "    fig, axes = plt.subplots(n_rows, n_cols, figsize=(2*num_col,3*num_row))\n",
    "    \n",
    "    if predictions is None:\n",
    "        predictions = [None] * len(labels)\n",
    "        \n",
    "    for i, (x, y_true, y_pred) in enumerate(zip(images, labels, predictions)):\n",
    "        ax = axes[i//num_col, i%num_col]\n",
    "        #ax = axes.flat[i]\n",
    "        \n",
    "       # x = x.transpose(2,0,1).reshape(3,-1)\n",
    "        x = x.reshape([28,28])\n",
    "        x = x.transpose()\n",
    "        \n",
    "        #print(x)\n",
    "        ax.imshow(x, cmap=plt.cm.binary)\n",
    "        \n",
    "        ax.set_title(class_names[y_true])\n",
    "        plt.subplots_adjust(left=0.01,bottom=1,right=0.7,top=1.5,wspace=0.1,hspace=.8)\n",
    "        \n",
    "        if y_pred is not None:\n",
    "            ax.set_xlabel(f\"pred: {class_names[y_pred]}\")\n",
    "    \n",
    "        #ax.set_xticks([])\n",
    "        #ax.set_yticks([])\n",
    "    #plt.tight_layout()\n",
    "    #plt.show()\n",
    "\n",
    "# plot first few images\n",
    "#plt.savefig('Fashion_MNIST.png', dpi=600)\n",
    "plot(X_train[:15], Y_train[:15]) \n"
   ],
   "metadata": {
    "collapsed": false,
    "pycharm": {
     "name": "#%%\n"
    }
   }
  }
 ],
 "metadata": {
  "kernelspec": {
   "display_name": "Python 3 (ipykernel)",
   "language": "python",
   "name": "python3"
  },
  "language_info": {
   "codemirror_mode": {
    "name": "ipython",
    "version": 3
   },
   "file_extension": ".py",
   "mimetype": "text/x-python",
   "name": "python",
   "nbconvert_exporter": "python",
   "pygments_lexer": "ipython3",
   "version": "3.9.5"
  }
 },
 "nbformat": 4,
 "nbformat_minor": 5
}